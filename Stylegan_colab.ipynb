{
  "nbformat": 4,
  "nbformat_minor": 0,
  "metadata": {
    "colab": {
      "name": "Stylegan_main.ipynb",
      "provenance": [],
      "collapsed_sections": [],
      "machine_shape": "hm"
    },
    "kernelspec": {
      "name": "python3",
      "display_name": "Python 3"
    },
    "accelerator": "GPU"
  },
  "cells": [
    {
      "cell_type": "code",
      "metadata": {
        "id": "EcB9R6fiBq1Q",
        "colab_type": "code",
        "colab": {}
      },
      "source": [
        "!git clone https://github.com/wlgh312/BSM_stylegan.git"
      ],
      "execution_count": 0,
      "outputs": []
    },
    {
      "cell_type": "code",
      "metadata": {
        "id": "F6pdjWxsCQV8",
        "colab_type": "code",
        "colab": {}
      },
      "source": [
        "from google.colab import drive\n",
        "drive.mount('/content/gdrive')"
      ],
      "execution_count": 0,
      "outputs": []
    },
    {
      "cell_type": "code",
      "metadata": {
        "id": "6dyprWjT7hm-",
        "colab_type": "code",
        "colab": {}
      },
      "source": [
        "!mkdir /content/BSM_stylegan/raw_images"
      ],
      "execution_count": 0,
      "outputs": []
    },
    {
      "cell_type": "code",
      "metadata": {
        "id": "K_59wS7oHWZ3",
        "colab_type": "code",
        "colab": {}
      },
      "source": [
        "!pip install face_recognition"
      ],
      "execution_count": 0,
      "outputs": []
    },
    {
      "cell_type": "code",
      "metadata": {
        "id": "4xNXtvdJB2l9",
        "colab_type": "code",
        "colab": {}
      },
      "source": [
        "!pip install tqdm\n",
        "!pip install typeguard\n",
        "!pip install psutil\n",
        "!pip install humanize\n",
        "!pip install config\n",
        "import cv2\n",
        "import face_recognition\n",
        "from IPython.display import Image\n",
        "from google.colab import files\n",
        "import pickle\n",
        "import numpy as np\n",
        "import PIL.Image\n",
        "from PIL import Image\n",
        "from shutil import copyfile\n",
        "import config\n",
        "from tqdm import tqdm\n",
        "import matplotlib.pyplot as plt"
      ],
      "execution_count": 0,
      "outputs": []
    },
    {
      "cell_type": "code",
      "metadata": {
        "id": "CTDBs6y7GgzR",
        "colab_type": "code",
        "colab": {}
      },
      "source": [
        "import os\n",
        "import sys\n",
        "sys.path.append('/content/gdrive/My Drive/stylegan')\n",
        "import dnnlib\n",
        "import dnnlib.tflib as tflib#pre-trained networks\n",
        "dnnlib.tflib.init_tf()"
      ],
      "execution_count": 0,
      "outputs": []
    },
    {
      "cell_type": "code",
      "metadata": {
        "id": "lHsI-iVnaBn-",
        "colab_type": "code",
        "colab": {}
      },
      "source": [
        "sys.path.insert(0, '/content/BSM_stylegan')\n",
        "import ag_detection"
      ],
      "execution_count": 0,
      "outputs": []
    },
    {
      "cell_type": "code",
      "metadata": {
        "id": "ohffnoFZCWHf",
        "colab_type": "code",
        "colab": {}
      },
      "source": [
        "entity_to_url={\n",
        "        'faces':'https://drive.google.com/uc?id=1MEGjdvVpUsu1jB4zrXZN7Y4kBBOzizDQ'\n",
        "}\n",
        "model_cache={}"
      ],
      "execution_count": 0,
      "outputs": []
    },
    {
      "cell_type": "code",
      "metadata": {
        "id": "HWj9ixW6FXrR",
        "colab_type": "code",
        "colab": {}
      },
      "source": [
        "def fetch_model(name):\n",
        "  if model_cache.get(name):\n",
        "    return model_cache[name]\n",
        "\n",
        "  url = entity_to_url[name]\n",
        "  with dnnlib.util.open_url(url, cache_dir='cache') as f:\n",
        "    _G, _D, Gs = pickle.load(f)\n",
        "    model_cache[name] = Gs\n",
        "  return model_cache[name]"
      ],
      "execution_count": 0,
      "outputs": []
    },
    {
      "cell_type": "code",
      "metadata": {
        "id": "uU7Dj4GNFw7b",
        "colab_type": "code",
        "colab": {}
      },
      "source": [
        "synthesis_kwargs = dict(output_transform=dict(func=tflib.convert_images_to_uint8, nchw_to_nhwc=True), minibatch_size=20)"
      ],
      "execution_count": 0,
      "outputs": []
    },
    {
      "cell_type": "code",
      "metadata": {
        "id": "injALvHXF9-C",
        "colab_type": "code",
        "colab": {}
      },
      "source": [
        "seed=10000000\n",
        "interpolate_dim=1#max:511\n",
        "#mapping size\n",
        "width=1#max:100\n",
        "height=1\n",
        "#image size\n",
        "image_dim=100\n",
        "interpolate=np.linspace(0, 30, width)\n",
        "name='faces'\n",
        "Gs=fetch_model(name)"
      ],
      "execution_count": 0,
      "outputs": []
    },
    {
      "cell_type": "code",
      "metadata": {
        "id": "Z9qRHzUZGbNA",
        "colab_type": "code",
        "colab": {}
      },
      "source": [
        "def apply_latent_fudge(fudge, target_latent):\n",
        "  copy=np.copy(target_latent)\n",
        "  copy[interpolate_dim]+=fudge\n",
        "  return copy"
      ],
      "execution_count": 0,
      "outputs": []
    },
    {
      "cell_type": "code",
      "metadata": {
        "id": "hWPoOdI5IN1G",
        "colab_type": "code",
        "colab": {}
      },
      "source": [
        "def v_linspace(i):\n",
        "  v = np.array(list(map(lambda l: np.linspace(dst_dlatents[i][l], height), range(dst_dlatents.shape[1]))))\n",
        "  v = v.transpose()\n",
        "  return v"
      ],
      "execution_count": 0,
      "outputs": []
    },
    {
      "cell_type": "code",
      "metadata": {
        "id": "SCa9r0EhKcNO",
        "colab_type": "code",
        "colab": {}
      },
      "source": [
        "#dst:target image\n",
        "def style_mixing(png, Gs, w, h, src_dlatents, dst_dlatents, style_ranges):\n",
        "  print(png)\n",
        "  src_images = Gs.components.synthesis.run(src_dlatents, randomize_noise=False, **synthesis_kwargs)\n",
        "  dst_images = Gs.components.synthesis.run(dst_dlatents, randomize_noise=False, **synthesis_kwargs)\n",
        "\n",
        "  canvas = PIL.Image.new('RGB', (w * (len(src_dlatents) + 1), h*(len(dst_dlatents) + 1)), 'white')\n",
        "  for col, src_image in enumerate(list(src_images)):\n",
        "    canvas.paste(PIL.Image.fromarray(src_image, 'RGB'), ((col + 1) * w, 0))\n",
        "  for row, dst_image in enumerate(list(dst_images)):\n",
        "    canvas.paste(PIL.Image.fromarray(dst_image, 'RGB'), (0, (row + 1) * h))\n",
        "    row_dlatents = np.stack([dst_dlatents[row]] * len(src_dlatents))\n",
        "    row_dlatents[:, style_ranges[row]] = src_dlatents[:, style_ranges[row]]\n",
        "    row_images = Gs.components.synthesis.run(row_dlatents, randomize_noise=True, **synthesis_kwargs)\n",
        "    for col, image in enumerate(list(row_images)):\n",
        "      canvas.paste(PIL.Image.fromarray(image, 'RGB'), ((col + 1) * w, (row + 1) * h))\n",
        "  canvas.save(png)\n",
        "  return canvas.resize((512, 512))"
      ],
      "execution_count": 0,
      "outputs": []
    },
    {
      "cell_type": "code",
      "metadata": {
        "id": "fqcw9ZHPz1l8",
        "colab_type": "code",
        "colab": {}
      },
      "source": [
        "dst_image = '/content/BSM_stylegan/data/hugh_jackman.jpg'\n",
        "mix_image = '/content/gdrive/My Drive/data/style_result/mix_result.png'"
      ],
      "execution_count": 0,
      "outputs": []
    },
    {
      "cell_type": "code",
      "metadata": {
        "id": "jtx85UJ0HF0R",
        "colab_type": "code",
        "colab": {}
      },
      "source": [
        "test_file=np.load('/content/BSM_stylegan/data/hugh_jackman_01.npy')"
      ],
      "execution_count": 0,
      "outputs": []
    },
    {
      "cell_type": "code",
      "metadata": {
        "id": "BXdegoe6HNO7",
        "colab_type": "code",
        "colab": {}
      },
      "source": [
        "#Repeat until both age and gender are the same\n",
        "for i in range(seed):\n",
        "  #src_image=generate_image(seed)\n",
        "  print(i)\n",
        "  rnd=np.random.RandomState(i)\n",
        "  init_latent1=rnd.randn(1, Gs.input_shape[1])[0]\n",
        "  applier1 = lambda f: apply_latent_fudge(f, init_latent1)\n",
        "  latent1=np.array(list(map(applier1, interpolate)))\n",
        "  image = Gs.run(latent1, None, **synthesis_kwargs)\n",
        "  img = PIL.Image.fromarray(image[0], 'RGB')\n",
        "  img = img.resize((image_dim, image_dim), PIL.Image.ANTIALIAS)\n",
        "  display(img)\n",
        "  img.save('/content/BSM_stylegan/raw_images/seed.jpg')\n",
        "  \n",
        "  #src_image to npy\n",
        "  %cd '/content/BSM_stylegan'\n",
        "  !python npy_encoder.py seed.jpg --batch_size=2 --lr=0.01 --iterations=500 raw_images/ aligned_images/ generated_images/ latent_representation/\n",
        "  src_file=np.load('/content/BSM_stylegan/latent_representation/seed_1.npy')\n",
        "  #Style mix\n",
        "  style_mixing(os.path.join('/content/gdrive/My Drive/data/style_result', 'mix_result.png'), Gs, w=1024, h=1024, src_dlatents=src_file.reshape((1, 18, 512)), dst_dlatents=test_file.reshape((1, 18, 512)), style_ranges=[range(6, 14)])\n",
        "  #Detect age and gender of two photo\n",
        "  ag_detection.test(dst_image)\n",
        "  age1 = ag_detection.age\n",
        "  gender1 = ag_detection.gender\n",
        "  #Mixing photo crop\n",
        "  img = Image.open('/content/gdrive/My Drive/data/style_result/mix_result.png')\n",
        "  crop_img = img.crop((1024, 1024, 2048, 2048))\n",
        "  crop_img.save('/content/gdrive/My Drive/data/style_result/mix.png')\n",
        "  \n",
        "  ag_detection.test('/content/gdrive/My Drive/data/style_result/mix.png')\n",
        "  age2 = ag_detection.age\n",
        "  gender2 = ag_detection.gender\n",
        "  if age1 == age2 and gender1 == gender2:\n",
        "    comp=0#same person\n",
        "  else:\n",
        "    comp=1#different person\n",
        "  if comp == 0:\n",
        "    break"
      ],
      "execution_count": 0,
      "outputs": []
    }
  ]
}