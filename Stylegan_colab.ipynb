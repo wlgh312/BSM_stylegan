{
  "nbformat": 4,
  "nbformat_minor": 0,
  "metadata": {
    "colab": {
      "name": "Stylegan_main.ipynb",
      "provenance": [],
      "collapsed_sections": [],
      "machine_shape": "hm"
    },
    "kernelspec": {
      "name": "python3",
      "display_name": "Python 3"
    },
    "accelerator": "GPU"
  },
  "cells": [
    {
      "cell_type": "code",
      "metadata": {
        "id": "EcB9R6fiBq1Q",
        "colab_type": "code",
        "outputId": "bff9617e-3738-489b-a513-cb8efa25b551",
        "colab": {
          "base_uri": "https://localhost:8080/",
          "height": 111
        }
      },
      "source": [
        "#!git clone https://github.com/NVlabs/stylegan\n",
        "!git clone https://github.com/iyaja/stylegan-encoder.git"
      ],
      "execution_count": 1,
      "outputs": [
        {
          "output_type": "stream",
          "text": [
            "Cloning into 'stylegan-encoder'...\n",
            "remote: Enumerating objects: 154, done.\u001b[K\n",
            "remote: Total 154 (delta 0), reused 0 (delta 0), pack-reused 154\u001b[K\n",
            "Receiving objects: 100% (154/154), 16.13 MiB | 35.44 MiB/s, done.\n",
            "Resolving deltas: 100% (42/42), done.\n"
          ],
          "name": "stdout"
        }
      ]
    },
    {
      "cell_type": "code",
      "metadata": {
        "id": "6dyprWjT7hm-",
        "colab_type": "code",
        "colab": {}
      },
      "source": [
        "!mkdir /content/stylegan-encoder/raw_images"
      ],
      "execution_count": 0,
      "outputs": []
    },
    {
      "cell_type": "code",
      "metadata": {
        "id": "2_-qQun2BwsC",
        "colab_type": "code",
        "outputId": "63a0135c-dfd8-485e-81f5-67e199cf1e88",
        "colab": {
          "base_uri": "https://localhost:8080/",
          "height": 36
        }
      },
      "source": [
        "%cd /content/stylegan-encoder"
      ],
      "execution_count": 3,
      "outputs": [
        {
          "output_type": "stream",
          "text": [
            "/content/stylegan-encoder\n"
          ],
          "name": "stdout"
        }
      ]
    },
    {
      "cell_type": "code",
      "metadata": {
        "id": "4xNXtvdJB2l9",
        "colab_type": "code",
        "outputId": "801cddb5-c45e-43cf-d680-c59ecb1900cb",
        "colab": {
          "base_uri": "https://localhost:8080/",
          "height": 168
        }
      },
      "source": [
        "!pip install tqdm\n",
        "!pip install typeguard\n",
        "!pip install psutil\n",
        "!pip install humanize\n",
        "from IPython.display import Image\n",
        "from google.colab import files\n",
        "import os\n",
        "import sys\n",
        "import pickle\n",
        "import numpy as np\n",
        "import PIL.Image\n",
        "from PIL import Image\n",
        "import config\n",
        "from tqdm import tqdm"
      ],
      "execution_count": 4,
      "outputs": [
        {
          "output_type": "stream",
          "text": [
            "Requirement already satisfied: tqdm in /usr/local/lib/python3.6/dist-packages (4.28.1)\n",
            "Collecting typeguard\n",
            "  Downloading https://files.pythonhosted.org/packages/cd/0b/f1da508c75cefe70aa03d984f1a9cf0497ca016f8c8d942379787dbeb6cb/typeguard-2.5.1-py3-none-any.whl\n",
            "Installing collected packages: typeguard\n",
            "Successfully installed typeguard-2.5.1\n",
            "Requirement already satisfied: psutil in /usr/local/lib/python3.6/dist-packages (5.4.8)\n",
            "Requirement already satisfied: humanize in /usr/local/lib/python3.6/dist-packages (0.5.1)\n"
          ],
          "name": "stdout"
        }
      ]
    },
    {
      "cell_type": "code",
      "metadata": {
        "id": "CTDBs6y7GgzR",
        "colab_type": "code",
        "colab": {
          "base_uri": "https://localhost:8080/",
          "height": 328
        },
        "outputId": "160f83d9-bbec-48d1-c052-0cd7af4172bd"
      },
      "source": [
        "sys.path.append('/content/stylegan/dnnlib')\n",
        "import dnnlib\n",
        "import dnnlib.tflib as tflib#pre-trained networks\n",
        "dnnlib.tflib.init_tf()"
      ],
      "execution_count": 5,
      "outputs": [
        {
          "output_type": "display_data",
          "data": {
            "text/html": [
              "<p style=\"color: red;\">\n",
              "The default version of TensorFlow in Colab will soon switch to TensorFlow 2.x.<br>\n",
              "We recommend you <a href=\"https://www.tensorflow.org/guide/migrate\" target=\"_blank\">upgrade</a> now \n",
              "or ensure your notebook will continue to use TensorFlow 1.x via the <code>%tensorflow_version 1.x</code> magic:\n",
              "<a href=\"https://colab.research.google.com/notebooks/tensorflow_version.ipynb\" target=\"_blank\">more info</a>.</p>\n"
            ],
            "text/plain": [
              "<IPython.core.display.HTML object>"
            ]
          },
          "metadata": {
            "tags": []
          }
        },
        {
          "output_type": "stream",
          "text": [
            "WARNING:tensorflow:From /content/stylegan-encoder/dnnlib/tflib/tfutil.py:34: The name tf.Dimension is deprecated. Please use tf.compat.v1.Dimension instead.\n",
            "\n",
            "WARNING:tensorflow:From /content/stylegan-encoder/dnnlib/tflib/tfutil.py:74: The name tf.variable_scope is deprecated. Please use tf.compat.v1.variable_scope instead.\n",
            "\n",
            "WARNING:tensorflow:From /content/stylegan-encoder/dnnlib/tflib/tfutil.py:128: The name tf.Session is deprecated. Please use tf.compat.v1.Session instead.\n",
            "\n",
            "WARNING:tensorflow:From /content/stylegan-encoder/dnnlib/tflib/tfutil.py:97: The name tf.get_default_session is deprecated. Please use tf.compat.v1.get_default_session instead.\n",
            "\n",
            "WARNING:tensorflow:From /content/stylegan-encoder/dnnlib/tflib/tfutil.py:109: The name tf.set_random_seed is deprecated. Please use tf.compat.v1.set_random_seed instead.\n",
            "\n",
            "WARNING:tensorflow:From /content/stylegan-encoder/dnnlib/tflib/tfutil.py:132: The name tf.ConfigProto is deprecated. Please use tf.compat.v1.ConfigProto instead.\n",
            "\n"
          ],
          "name": "stdout"
        }
      ]
    },
    {
      "cell_type": "code",
      "metadata": {
        "id": "F6pdjWxsCQV8",
        "colab_type": "code",
        "outputId": "0307c654-1557-4da9-9c0c-5d04597c53d1",
        "colab": {
          "base_uri": "https://localhost:8080/",
          "height": 131
        }
      },
      "source": [
        "from google.colab import drive\n",
        "drive.mount('/content/gdrive')"
      ],
      "execution_count": 6,
      "outputs": [
        {
          "output_type": "stream",
          "text": [
            "Go to this URL in a browser: https://accounts.google.com/o/oauth2/auth?client_id=947318989803-6bn6qk8qdgf4n4g3pfee6491hc0brc4i.apps.googleusercontent.com&redirect_uri=urn%3Aietf%3Awg%3Aoauth%3A2.0%3Aoob&scope=email%20https%3A%2F%2Fwww.googleapis.com%2Fauth%2Fdocs.test%20https%3A%2F%2Fwww.googleapis.com%2Fauth%2Fdrive%20https%3A%2F%2Fwww.googleapis.com%2Fauth%2Fdrive.photos.readonly%20https%3A%2F%2Fwww.googleapis.com%2Fauth%2Fpeopleapi.readonly&response_type=code\n",
            "\n",
            "Enter your authorization code:\n",
            "··········\n",
            "Mounted at /content/gdrive\n"
          ],
          "name": "stdout"
        }
      ]
    },
    {
      "cell_type": "code",
      "metadata": {
        "id": "ohffnoFZCWHf",
        "colab_type": "code",
        "colab": {}
      },
      "source": [
        "entity_to_url={\n",
        "        'faces':'https://drive.google.com/uc?id=1MEGjdvVpUsu1jB4zrXZN7Y4kBBOzizDQ'\n",
        "}\n",
        "model_cache={}"
      ],
      "execution_count": 0,
      "outputs": []
    },
    {
      "cell_type": "code",
      "metadata": {
        "id": "HWj9ixW6FXrR",
        "colab_type": "code",
        "colab": {}
      },
      "source": [
        "def fetch_model(name):\n",
        "  if model_cache.get(name):\n",
        "    return model_cache[name]\n",
        "\n",
        "  url = entity_to_url[name]\n",
        "  with dnnlib.util.open_url(url, cache_dir='cache') as f:\n",
        "    _G, _D, Gs = pickle.load(f)\n",
        "    model_cache[name] = Gs\n",
        "  return model_cache[name]"
      ],
      "execution_count": 0,
      "outputs": []
    },
    {
      "cell_type": "code",
      "metadata": {
        "id": "uU7Dj4GNFw7b",
        "colab_type": "code",
        "colab": {}
      },
      "source": [
        "synthesis_kwargs = dict(output_transform=dict(func=tflib.convert_images_to_uint8, nchw_to_nhwc=True), minibatch_size=20)"
      ],
      "execution_count": 0,
      "outputs": []
    },
    {
      "cell_type": "code",
      "metadata": {
        "id": "injALvHXF9-C",
        "colab_type": "code",
        "colab": {
          "base_uri": "https://localhost:8080/",
          "height": 373
        },
        "outputId": "f24bcafc-cb37-4a39-b93f-bc392fdabeba"
      },
      "source": [
        "seed=10000000\n",
        "interpolate_dim=1#max:511\n",
        "#mapping size\n",
        "width=1#max:100\n",
        "height=1\n",
        "#image size\n",
        "image_dim=100\n",
        "interpolate=np.linspace(0, 30, width)\n",
        "name='faces'\n",
        "Gs=fetch_model(name)"
      ],
      "execution_count": 10,
      "outputs": [
        {
          "output_type": "stream",
          "text": [
            "Downloading https://drive.google.com/uc?id=1MEGjdvVpUsu1jB4zrXZN7Y4kBBOzizDQ .... done\n",
            "WARNING:tensorflow:From /content/stylegan-encoder/dnnlib/tflib/network.py:142: The name tf.get_default_graph is deprecated. Please use tf.compat.v1.get_default_graph instead.\n",
            "\n",
            "WARNING:tensorflow:From /content/stylegan-encoder/dnnlib/tflib/network.py:150: The name tf.AUTO_REUSE is deprecated. Please use tf.compat.v1.AUTO_REUSE instead.\n",
            "\n",
            "WARNING:tensorflow:From /content/stylegan-encoder/dnnlib/tflib/tfutil.py:76: The name tf.VariableScope is deprecated. Please use tf.compat.v1.VariableScope instead.\n",
            "\n",
            "WARNING:tensorflow:From /content/stylegan-encoder/dnnlib/tflib/network.py:151: The name tf.get_variable_scope is deprecated. Please use tf.compat.v1.get_variable_scope instead.\n",
            "\n",
            "WARNING:tensorflow:From /content/stylegan-encoder/dnnlib/tflib/network.py:154: The name tf.placeholder is deprecated. Please use tf.compat.v1.placeholder instead.\n",
            "\n",
            "WARNING:tensorflow:From /content/stylegan-encoder/dnnlib/tflib/network.py:182: The name tf.global_variables is deprecated. Please use tf.compat.v1.global_variables instead.\n",
            "\n",
            "WARNING:tensorflow:From /content/stylegan-encoder/dnnlib/tflib/tfutil.py:200: The name tf.assign is deprecated. Please use tf.compat.v1.assign instead.\n",
            "\n",
            "WARNING:tensorflow:From <string>:364: where (from tensorflow.python.ops.array_ops) is deprecated and will be removed in a future version.\n",
            "Instructions for updating:\n",
            "Use tf.where in 2.0, which has the same broadcast rule as np.where\n"
          ],
          "name": "stdout"
        }
      ]
    },
    {
      "cell_type": "code",
      "metadata": {
        "id": "Z9qRHzUZGbNA",
        "colab_type": "code",
        "colab": {}
      },
      "source": [
        "def apply_latent_fudge(fudge, target_latent):\n",
        "  copy=np.copy(target_latent)\n",
        "  copy[interpolate_dim]+=fudge\n",
        "  return copy"
      ],
      "execution_count": 0,
      "outputs": []
    },
    {
      "cell_type": "code",
      "metadata": {
        "id": "hWPoOdI5IN1G",
        "colab_type": "code",
        "colab": {}
      },
      "source": [
        "def v_linspace(i):\n",
        "  v = np.array(list(map(lambda l: np.linspace(dst_dlatents[i][l], height), range(dst_dlatents.shape[1]))))\n",
        "  v = v.transpose()\n",
        "  return v"
      ],
      "execution_count": 0,
      "outputs": []
    },
    {
      "cell_type": "code",
      "metadata": {
        "id": "SCa9r0EhKcNO",
        "colab_type": "code",
        "colab": {}
      },
      "source": [
        "#dst:target image\n",
        "def style_mixing(png, Gs, w, h, src_dlatents, dst_dlatents, style_ranges):\n",
        "  print(png)\n",
        "  src_images = Gs.components.synthesis.run(src_dlatents, randomize_noise=False, **synthesis_kwargs)\n",
        "  dst_images = Gs.components.synthesis.run(dst_dlatents, randomize_noise=False, **synthesis_kwargs)\n",
        "\n",
        "  canvas = PIL.Image.new('RGB', (w * (len(src_dlatents) + 1), h*(len(dst_dlatents) + 1)), 'white')\n",
        "  for col, src_image in enumerate(list(src_images)):\n",
        "    canvas.paste(PIL.Image.fromarray(src_image, 'RGB'), ((col + 1) * w, 0))\n",
        "  for row, dst_image in enumerate(list(dst_images)):\n",
        "    canvas.paste(PIL.Image.fromarray(dst_image, 'RGB'), (0, (row + 1) * h))\n",
        "    row_dlatents = np.stack([dst_dlatents[row]] * len(src_dlatents))\n",
        "    row_dlatents[:, style_ranges[row]] = src_dlatents[:, style_ranges[row]]\n",
        "    row_images = Gs.components.synthesis.run(row_dlatents, randomize_noise=False, **synthesis_kwargs)\n",
        "    for col, image in enumerate(list(row_images)):\n",
        "      canvas.paste(PIL.Image.fromarray(image, 'RGB'), ((col + 1) * w, (row + 1) * h))\n",
        "  canvas.save(png)\n",
        "  return canvas.resize((512, 512))"
      ],
      "execution_count": 0,
      "outputs": []
    },
    {
      "cell_type": "code",
      "metadata": {
        "id": "jtx85UJ0HF0R",
        "colab_type": "code",
        "colab": {}
      },
      "source": [
        "test_file=np.load('/content/gdrive/My Drive/data/npy_result/hathaway_01.npy')"
      ],
      "execution_count": 0,
      "outputs": []
    },
    {
      "cell_type": "code",
      "metadata": {
        "id": "BXdegoe6HNO7",
        "colab_type": "code",
        "outputId": "b57010b4-6c64-4939-971a-69e64b776446",
        "colab": {
          "base_uri": "https://localhost:8080/",
          "height": 557
        }
      },
      "source": [
        "for i in range(seed):\n",
        "  #src_image=generate_image(seed)\n",
        "  print(i)\n",
        "  '''\n",
        "  rnd=np.random.RandomState(i)\n",
        "  init_latent1=rnd.randn(1, Gs.input_shape[1])[0]\n",
        "  applier1 = lambda f: apply_latent_fudge(f, init_latent1)\n",
        "  latent1=np.array(list(map(applier1, interpolate)))\n",
        "  combined_latent = np.array(list(map(v_linspace, range(width))))\n",
        "  combined_latent = np.array(list(map(lambda x: x.flatten(), combined_latent.transpose()))).transpose()\n",
        "  images = Gs.run(combined_latent, None, **synthesis_kwargs)\n",
        "  img = PIL.Image.fromarray(images[0], 'RGB')\n",
        "  img = img.resize((image_dim, image_dim), PIL.Image.ANTIALIAS)\n",
        "  '''\n",
        "  rnd=np.random.RandomState(i)\n",
        "  init_latent1=rnd.randn(1, Gs.input_shape[1])[0]\n",
        "  applier1 = lambda f: apply_latent_fudge(f, init_latent1)\n",
        "  latent1=np.array(list(map(applier1, interpolate)))\n",
        "  image = Gs.run(latent1, None, **synthesis_kwargs)\n",
        "  img = PIL.Image.fromarray(image[0], 'RGB')\n",
        "  img = img.resize((image_dim, image_dim), PIL.Image.ANTIALIAS)\n",
        "  display(img)\n",
        "  img.save('/content/stylegan-encoder/raw_images/seed.jpg')\n",
        "  \n",
        "  #src_image to npy\n",
        "  !python npy_encoder.py seed.jpg raw_images/ aligned_images/ generated_images/ latent_representation/\n",
        "  dst_file=np.load('/content/stylegan-encoder/latent_representation/seed_ 1.npy')\n",
        "  style_mixing(os.path.join('/content/gdrive/My Drive/data/style_result', 'mix_result.png'), Gs, w=1024, h=1024, src_dlatents=dst_file.reshape((1, 18, 512)), dst_dlatents=test_file.reshape((1, 18, 512)), style_ranges=[range(6, 14)])\n",
        "  if i == 1:#dst_image == style_mixing(age, gender)\n",
        "    break\n",
        "display('mix_result.png')"
      ],
      "execution_count": 15,
      "outputs": [
        {
          "output_type": "stream",
          "text": [
            "0\n"
          ],
          "name": "stdout"
        },
        {
          "output_type": "display_data",
          "data": {
            "image/png": "[encoded data removed]",
            "text/plain": [
              "<PIL.Image.Image image mode=RGB size=100x100 at 0x7FAB3B7052E8>"
            ]
          },
          "metadata": {
            "tags": []
          }
        },
        {
          "output_type": "stream",
          "text": [
            "/content/stylegan-encoder\n",
            "python3: can't open file 'npy_encoder.py': [Errno 2] No such file or directory\n"
          ],
          "name": "stdout"
        },
        {
          "output_type": "error",
          "ename": "FileNotFoundError",
          "evalue": "ignored",
          "traceback": [
            "\u001b[0;31m---------------------------------------------------------------------------\u001b[0m",
            "\u001b[0;31mFileNotFoundError\u001b[0m                         Traceback (most recent call last)",
            "\u001b[0;32m<ipython-input-15-c1fb83755ce1>\u001b[0m in \u001b[0;36m<module>\u001b[0;34m()\u001b[0m\n\u001b[1;32m     27\u001b[0m   \u001b[0mget_ipython\u001b[0m\u001b[0;34m(\u001b[0m\u001b[0;34m)\u001b[0m\u001b[0;34m.\u001b[0m\u001b[0mmagic\u001b[0m\u001b[0;34m(\u001b[0m\u001b[0;34m'cd /content/stylegan-encoder'\u001b[0m\u001b[0;34m)\u001b[0m\u001b[0;34m\u001b[0m\u001b[0;34m\u001b[0m\u001b[0m\n\u001b[1;32m     28\u001b[0m   \u001b[0mget_ipython\u001b[0m\u001b[0;34m(\u001b[0m\u001b[0;34m)\u001b[0m\u001b[0;34m.\u001b[0m\u001b[0msystem\u001b[0m\u001b[0;34m(\u001b[0m\u001b[0;34m'python npy_encoder.py seed.jpg raw_images/ aligned_images/ generated_images/ latent_representation/'\u001b[0m\u001b[0;34m)\u001b[0m\u001b[0;34m\u001b[0m\u001b[0;34m\u001b[0m\u001b[0m\n\u001b[0;32m---> 29\u001b[0;31m   \u001b[0mdst_file\u001b[0m\u001b[0;34m=\u001b[0m\u001b[0mnp\u001b[0m\u001b[0;34m.\u001b[0m\u001b[0mload\u001b[0m\u001b[0;34m(\u001b[0m\u001b[0;34m'/content/stylegan-encoder/latent_representation/seed_ 1.npy'\u001b[0m\u001b[0;34m)\u001b[0m\u001b[0;34m\u001b[0m\u001b[0;34m\u001b[0m\u001b[0m\n\u001b[0m\u001b[1;32m     30\u001b[0m   \u001b[0mstyle_mixing\u001b[0m\u001b[0;34m(\u001b[0m\u001b[0mos\u001b[0m\u001b[0;34m.\u001b[0m\u001b[0mpath\u001b[0m\u001b[0;34m.\u001b[0m\u001b[0mjoin\u001b[0m\u001b[0;34m(\u001b[0m\u001b[0;34m'/content/gdrive/My Drive/data/style_result'\u001b[0m\u001b[0;34m,\u001b[0m \u001b[0;34m'mix_result.png'\u001b[0m\u001b[0;34m)\u001b[0m\u001b[0;34m,\u001b[0m \u001b[0mGs\u001b[0m\u001b[0;34m,\u001b[0m \u001b[0mw\u001b[0m\u001b[0;34m=\u001b[0m\u001b[0;36m1024\u001b[0m\u001b[0;34m,\u001b[0m \u001b[0mh\u001b[0m\u001b[0;34m=\u001b[0m\u001b[0;36m1024\u001b[0m\u001b[0;34m,\u001b[0m \u001b[0msrc_dlatents\u001b[0m\u001b[0;34m=\u001b[0m\u001b[0mdst_file\u001b[0m\u001b[0;34m.\u001b[0m\u001b[0mreshape\u001b[0m\u001b[0;34m(\u001b[0m\u001b[0;34m(\u001b[0m\u001b[0;36m1\u001b[0m\u001b[0;34m,\u001b[0m \u001b[0;36m18\u001b[0m\u001b[0;34m,\u001b[0m \u001b[0;36m512\u001b[0m\u001b[0;34m)\u001b[0m\u001b[0;34m)\u001b[0m\u001b[0;34m,\u001b[0m \u001b[0mdst_dlatents\u001b[0m\u001b[0;34m=\u001b[0m\u001b[0mtest_file\u001b[0m\u001b[0;34m.\u001b[0m\u001b[0mreshape\u001b[0m\u001b[0;34m(\u001b[0m\u001b[0;34m(\u001b[0m\u001b[0;36m1\u001b[0m\u001b[0;34m,\u001b[0m \u001b[0;36m18\u001b[0m\u001b[0;34m,\u001b[0m \u001b[0;36m512\u001b[0m\u001b[0;34m)\u001b[0m\u001b[0;34m)\u001b[0m\u001b[0;34m,\u001b[0m \u001b[0mstyle_ranges\u001b[0m\u001b[0;34m=\u001b[0m\u001b[0;34m[\u001b[0m\u001b[0mrange\u001b[0m\u001b[0;34m(\u001b[0m\u001b[0;36m6\u001b[0m\u001b[0;34m,\u001b[0m \u001b[0;36m14\u001b[0m\u001b[0;34m)\u001b[0m\u001b[0;34m]\u001b[0m\u001b[0;34m)\u001b[0m\u001b[0;34m\u001b[0m\u001b[0;34m\u001b[0m\u001b[0m\n\u001b[1;32m     31\u001b[0m   \u001b[0;32mif\u001b[0m \u001b[0mi\u001b[0m \u001b[0;34m==\u001b[0m \u001b[0;36m1\u001b[0m\u001b[0;34m:\u001b[0m\u001b[0;31m#dst_image == style_mixing(age, gender)\u001b[0m\u001b[0;34m\u001b[0m\u001b[0;34m\u001b[0m\u001b[0m\n",
            "\u001b[0;32m/usr/local/lib/python3.6/dist-packages/numpy/lib/npyio.py\u001b[0m in \u001b[0;36mload\u001b[0;34m(file, mmap_mode, allow_pickle, fix_imports, encoding)\u001b[0m\n\u001b[1;32m    426\u001b[0m         \u001b[0mown_fid\u001b[0m \u001b[0;34m=\u001b[0m \u001b[0;32mFalse\u001b[0m\u001b[0;34m\u001b[0m\u001b[0;34m\u001b[0m\u001b[0m\n\u001b[1;32m    427\u001b[0m     \u001b[0;32melse\u001b[0m\u001b[0;34m:\u001b[0m\u001b[0;34m\u001b[0m\u001b[0;34m\u001b[0m\u001b[0m\n\u001b[0;32m--> 428\u001b[0;31m         \u001b[0mfid\u001b[0m \u001b[0;34m=\u001b[0m \u001b[0mopen\u001b[0m\u001b[0;34m(\u001b[0m\u001b[0mos_fspath\u001b[0m\u001b[0;34m(\u001b[0m\u001b[0mfile\u001b[0m\u001b[0;34m)\u001b[0m\u001b[0;34m,\u001b[0m \u001b[0;34m\"rb\"\u001b[0m\u001b[0;34m)\u001b[0m\u001b[0;34m\u001b[0m\u001b[0;34m\u001b[0m\u001b[0m\n\u001b[0m\u001b[1;32m    429\u001b[0m         \u001b[0mown_fid\u001b[0m \u001b[0;34m=\u001b[0m \u001b[0;32mTrue\u001b[0m\u001b[0;34m\u001b[0m\u001b[0;34m\u001b[0m\u001b[0m\n\u001b[1;32m    430\u001b[0m \u001b[0;34m\u001b[0m\u001b[0m\n",
            "\u001b[0;31mFileNotFoundError\u001b[0m: [Errno 2] No such file or directory: '/content/stylegan-encoder/latent_representation/seed_ 1.npy'"
          ]
        }
      ]
    },
    {
      "cell_type": "code",
      "metadata": {
        "id": "K_59wS7oHWZ3",
        "colab_type": "code",
        "colab": {}
      },
      "source": [
        "\n"
      ],
      "execution_count": 0,
      "outputs": []
    }
  ]
}