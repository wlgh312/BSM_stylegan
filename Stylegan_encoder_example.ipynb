{
  "nbformat": 4,
  "nbformat_minor": 0,
  "metadata": {
    "colab": {
      "name": "Stylegan_encoder_second.ipynb",
      "provenance": [],
      "collapsed_sections": []
    },
    "kernelspec": {
      "name": "python3",
      "display_name": "Python 3"
    },
    "accelerator": "GPU"
  },
  "cells": [
    {
      "cell_type": "code",
      "metadata": {
        "id": "SCsV0WXc8441",
        "colab_type": "code",
        "colab": {}
      },
      "source": [
        "!rm -rf sample_data\n",
        "!git clone https://github.com/pbaylies/stylegan-encoder\n",
        "!mv stylegan-encoder/* stylegan-encoder/.git .\n",
        "!rmdir stylegan-encoder"
      ],
      "execution_count": 0,
      "outputs": []
    },
    {
      "cell_type": "code",
      "metadata": {
        "id": "NrNNgK4KqZXw",
        "colab_type": "code",
        "colab": {}
      },
      "source": [
        "from google.colab import drive\n",
        "drive.mount('/content/gdrive')"
      ],
      "execution_count": 0,
      "outputs": []
    },
    {
      "cell_type": "code",
      "metadata": {
        "id": "TR509rfV9OCG",
        "colab_type": "code",
        "colab": {}
      },
      "source": [
        "#!python train_resnet.py --help\n",
        "#!python train_resnet.py --test_size 256 --batch_size 1024 --loop 1 --max_patience 1"
      ],
      "execution_count": 0,
      "outputs": []
    },
    {
      "cell_type": "code",
      "metadata": {
        "id": "wq0-B7JhSOKg",
        "colab_type": "code",
        "colab": {}
      },
      "source": [
        "!mkdir aligned_images raw_images"
      ],
      "execution_count": 0,
      "outputs": []
    },
    {
      "cell_type": "code",
      "metadata": {
        "id": "mpZsnteA9bU_",
        "colab_type": "code",
        "colab": {}
      },
      "source": [
        "import PIL.Image\n",
        "img1 = PIL.Image.open('/content/gdrive/My Drive/data/Man/hugh_jackman.jpg')\n",
        "wpercent = (256/float(img1.size[0]))\n",
        "hsize = int((float(img1.size[1])*float(wpercent)))\n",
        "img1 = img1.resize((256,hsize), PIL.Image.LANCZOS)\n",
        "#img2 = PIL.Image.open('raw_images/hathaway.jpg')\n",
        "#wpercent = (256/float(img2.size[0]))\n",
        "#hsize = int((float(img2.size[1])*float(wpercent)))\n",
        "#img2 = img2.resize((256,hsize), PIL.Image.LANCZOS)\n",
        "display(img1)"
      ],
      "execution_count": 0,
      "outputs": []
    },
    {
      "cell_type": "code",
      "metadata": {
        "id": "ofii-iFf--lw",
        "colab_type": "code",
        "colab": {}
      },
      "source": [
        "!python align_images.py raw_images/ aligned_images/"
      ],
      "execution_count": 0,
      "outputs": []
    },
    {
      "cell_type": "code",
      "metadata": {
        "id": "3q2zQ4QLNr8K",
        "colab_type": "code",
        "colab": {}
      },
      "source": [
        "!python encode_images.py --output_video=True=0.002 --iterations=1000 --use_l1_penalty=0.2 aligned_images/ generated_images/ latent_representations/"
      ],
      "execution_count": 0,
      "outputs": []
    }
  ]
}